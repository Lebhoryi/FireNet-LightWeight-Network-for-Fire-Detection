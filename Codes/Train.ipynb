{
 "cells": [
  {
   "cell_type": "code",
   "execution_count": 72,
   "metadata": {},
   "outputs": [],
   "source": [
    "import os\n",
    "os.environ[\"TF_MIN_CPP_LEVEL_LOG\"] = \"2\"\n",
    "import cv2\n",
    "import time\n",
    "import random\n",
    "import numpy as np\n",
    "from tqdm import tqdm\n",
    "from matplotlib import pyplot as plt\n",
    "from pathlib import Path"
   ]
  },
  {
   "cell_type": "code",
   "execution_count": 73,
   "metadata": {},
   "outputs": [
    {
     "data": {
      "text/plain": [
       "'2.4.0'"
      ]
     },
     "execution_count": 73,
     "metadata": {},
     "output_type": "execute_result"
    }
   ],
   "source": [
    "import tensorflow as tf\n",
    "from tensorflow.keras.utils import plot_model\n",
    "from tensorflow.keras.models import load_model\n",
    "from tensorflow.keras.datasets import cifar10\n",
    "from tensorflow.keras.preprocessing.image import ImageDataGenerator\n",
    "from tensorflow.keras.models import Sequential\n",
    "from tensorflow.keras.layers import Dense, Dropout, Activation, Flatten\n",
    "from tensorflow.keras.layers import Conv2D, AveragePooling2D\n",
    "\n",
    "tf.__version__"
   ]
  },
  {
   "cell_type": "code",
   "execution_count": 74,
   "metadata": {},
   "outputs": [],
   "source": [
    "DATADIR = '../Dataset'\n",
    "CATEGORIES = ['Fire', 'NoFire']\n",
    "IMG_SIZE = 64"
   ]
  },
  {
   "cell_type": "code",
   "execution_count": 75,
   "metadata": {},
   "outputs": [
    {
     "name": "stderr",
     "output_type": "stream",
     "text": [
      "100%|██████████| 1124/1124 [00:07<00:00, 158.17it/s]\n",
      "100%|██████████| 1300/1300 [00:16<00:00, 78.41it/s] \n"
     ]
    }
   ],
   "source": [
    "def create_training_data():\n",
    "    training_data = []\n",
    "    for category in CATEGORIES:  \n",
    "\n",
    "        path = os.path.join(DATADIR,category) \n",
    "        class_num = CATEGORIES.index(category)  # get the classification  (0 or a 1). 0=C 1=O\n",
    "\n",
    "        for img in tqdm(os.listdir(path)):  # iterate over each image\n",
    "            try:\n",
    "                img_array = cv2.imread(os.path.join(path,img))  # convert to array\n",
    "                img_array = cv2.cvtColor(img_array, cv2.COLOR_BGR2RGB)\n",
    "                new_array = cv2.resize(img_array, (IMG_SIZE, IMG_SIZE))  # resize to normalize data size\n",
    "                training_data.append([new_array, class_num])  # add this to our training_data\n",
    "            except Exception as e:  # in the interest in keeping the output clean...\n",
    "                pass\n",
    "              \n",
    "    return training_data\n",
    "\n",
    "training_data = create_training_data()"
   ]
  },
  {
   "cell_type": "code",
   "execution_count": 78,
   "metadata": {},
   "outputs": [
    {
     "name": "stdout",
     "output_type": "stream",
     "text": [
      "data numbers: 2422\n",
      "1 1 1 0 0 "
     ]
    }
   ],
   "source": [
    "print(f\"data numbers: {len(training_data)}\")\n",
    "random.shuffle(training_data)\n",
    "for sample in training_data[:5]:\n",
    "    print(sample[1], end=\" \")"
   ]
  },
  {
   "cell_type": "code",
   "execution_count": 77,
   "metadata": {},
   "outputs": [
    {
     "data": {
      "text/plain": [
       "(2422, 64, 64, 3)"
      ]
     },
     "execution_count": 77,
     "metadata": {},
     "output_type": "execute_result"
    }
   ],
   "source": [
    "X = []\n",
    "Y = []\n",
    "\n",
    "for features, label in training_data:\n",
    "    X.append(features)\n",
    "    Y.append(label)\n",
    "\n",
    "X = np.array(X).reshape(-1, IMG_SIZE, IMG_SIZE, 3)\n",
    "X = X/255.0\n",
    "\n",
    "Y = np.array(Y)\n",
    "X.shape"
   ]
  },
  {
   "cell_type": "code",
   "execution_count": 15,
   "metadata": {},
   "outputs": [],
   "source": [
    "# # set up image augmentation\n",
    "# from keras.preprocessing.image import ImageDataGenerator\n",
    "\n",
    "# datagen = ImageDataGenerator(\n",
    "#     rotation_range=15,\n",
    "#     horizontal_flip=True,\n",
    "#     width_shift_range=0.1,\n",
    "#     height_shift_range=0.1\n",
    "#     #zoom_range=0.3\n",
    "#     )\n",
    "# datagen.fit(X)"
   ]
  },
  {
   "cell_type": "code",
   "execution_count": 60,
   "metadata": {
    "scrolled": true
   },
   "outputs": [],
   "source": [
    "model = Sequential()\n",
    "\n",
    "model.add(Conv2D(filters=16, kernel_size=(3, 3), activation='relu', input_shape=X.shape[1:]))\n",
    "model.add(AveragePooling2D())\n",
    "model.add(Dropout(0.5))\n",
    "\n",
    "model.add(Conv2D(filters=32, kernel_size=(3, 3), activation='relu'))\n",
    "model.add(AveragePooling2D())\n",
    "model.add(Dropout(0.5))\n",
    "\n",
    "model.add(Conv2D(filters=64, kernel_size=(3, 3), activation='relu'))\n",
    "model.add(AveragePooling2D())\n",
    "model.add(Dropout(0.5))\n",
    "\n",
    "model.add(Flatten())\n",
    "\n",
    "model.add(Dense(units=256, activation='relu'))\n",
    "model.add(Dropout(0.2))\n",
    "\n",
    "model.add(Dense(units=128, activation='relu'))\n",
    "\n",
    "model.add(Dense(units=2, activation = 'softmax'))\n",
    "\n",
    "model.compile(loss='sparse_categorical_crossentropy',\n",
    "              optimizer='adam',\n",
    "              metrics=['accuracy'])\n",
    "\n",
    "# model.summary()"
   ]
  },
  {
   "cell_type": "code",
   "execution_count": 119,
   "metadata": {
    "scrolled": true
   },
   "outputs": [
    {
     "name": "stdout",
     "output_type": "stream",
     "text": [
      "Epoch 1/100\n",
      "69/69 [==============================] - 2s 33ms/step - loss: 0.6746 - accuracy: 0.7623 - val_loss: 0.3043 - val_accuracy: 0.8930\n",
      "Epoch 2/100\n",
      "69/69 [==============================] - 2s 30ms/step - loss: 0.3613 - accuracy: 0.8444 - val_loss: 0.2460 - val_accuracy: 0.9053\n",
      "Epoch 3/100\n",
      "69/69 [==============================] - 2s 30ms/step - loss: 0.2931 - accuracy: 0.8752 - val_loss: 0.2256 - val_accuracy: 0.8930\n",
      "Epoch 4/100\n",
      "69/69 [==============================] - 2s 30ms/step - loss: 0.2450 - accuracy: 0.8977 - val_loss: 0.1820 - val_accuracy: 0.9218\n",
      "Epoch 5/100\n",
      "69/69 [==============================] - 2s 30ms/step - loss: 0.1825 - accuracy: 0.9266 - val_loss: 0.1624 - val_accuracy: 0.9383\n",
      "Epoch 6/100\n",
      "69/69 [==============================] - 2s 32ms/step - loss: 0.1801 - accuracy: 0.9270 - val_loss: 0.1492 - val_accuracy: 0.9342\n",
      "Epoch 7/100\n",
      "69/69 [==============================] - 2s 31ms/step - loss: 0.1338 - accuracy: 0.9536 - val_loss: 0.0832 - val_accuracy: 0.9712\n",
      "Epoch 8/100\n",
      "69/69 [==============================] - 2s 31ms/step - loss: 0.1257 - accuracy: 0.9569 - val_loss: 0.1212 - val_accuracy: 0.9630\n",
      "Epoch 9/100\n",
      "69/69 [==============================] - 2s 33ms/step - loss: 0.1060 - accuracy: 0.9610 - val_loss: 0.0798 - val_accuracy: 0.9794\n",
      "Epoch 10/100\n",
      "69/69 [==============================] - 2s 31ms/step - loss: 0.0885 - accuracy: 0.9683 - val_loss: 0.0837 - val_accuracy: 0.9588\n",
      "Epoch 11/100\n",
      "69/69 [==============================] - 2s 31ms/step - loss: 0.0904 - accuracy: 0.9660 - val_loss: 0.1009 - val_accuracy: 0.9712\n",
      "Epoch 12/100\n",
      "69/69 [==============================] - 2s 33ms/step - loss: 0.1137 - accuracy: 0.9587 - val_loss: 0.0502 - val_accuracy: 0.9835\n",
      "Epoch 13/100\n",
      "69/69 [==============================] - 2s 34ms/step - loss: 0.1000 - accuracy: 0.9642 - val_loss: 0.0799 - val_accuracy: 0.9794\n",
      "Epoch 14/100\n",
      "69/69 [==============================] - 2s 30ms/step - loss: 0.0682 - accuracy: 0.9752 - val_loss: 0.1106 - val_accuracy: 0.9630\n",
      "Epoch 15/100\n",
      "69/69 [==============================] - 2s 32ms/step - loss: 0.0918 - accuracy: 0.9702 - val_loss: 0.0745 - val_accuracy: 0.9753\n",
      "Epoch 16/100\n",
      "69/69 [==============================] - 2s 31ms/step - loss: 0.0882 - accuracy: 0.9711 - val_loss: 0.0619 - val_accuracy: 0.9835\n",
      "Epoch 17/100\n",
      "69/69 [==============================] - 2s 30ms/step - loss: 0.0618 - accuracy: 0.9757 - val_loss: 0.0557 - val_accuracy: 0.9835\n",
      "Epoch 18/100\n",
      "69/69 [==============================] - 2s 31ms/step - loss: 0.0502 - accuracy: 0.9807 - val_loss: 0.0422 - val_accuracy: 0.9918\n",
      "Epoch 19/100\n",
      "69/69 [==============================] - 2s 31ms/step - loss: 0.0522 - accuracy: 0.9789 - val_loss: 0.0329 - val_accuracy: 0.9877\n",
      "Epoch 20/100\n",
      "69/69 [==============================] - 2s 31ms/step - loss: 0.0527 - accuracy: 0.9826 - val_loss: 0.0279 - val_accuracy: 0.9918\n",
      "Epoch 21/100\n",
      "69/69 [==============================] - 2s 30ms/step - loss: 0.0476 - accuracy: 0.9858 - val_loss: 0.0217 - val_accuracy: 0.9877\n",
      "Epoch 22/100\n",
      "69/69 [==============================] - 2s 31ms/step - loss: 0.0600 - accuracy: 0.9757 - val_loss: 0.0592 - val_accuracy: 0.9877\n",
      "Epoch 23/100\n",
      "69/69 [==============================] - 2s 30ms/step - loss: 0.0406 - accuracy: 0.9844 - val_loss: 0.0489 - val_accuracy: 0.9794\n",
      "Epoch 24/100\n",
      "69/69 [==============================] - 2s 31ms/step - loss: 0.0400 - accuracy: 0.9862 - val_loss: 0.0443 - val_accuracy: 0.9753\n",
      "Epoch 25/100\n",
      "69/69 [==============================] - 2s 32ms/step - loss: 0.0393 - accuracy: 0.9862 - val_loss: 0.0319 - val_accuracy: 0.9877\n",
      "Epoch 26/100\n",
      "69/69 [==============================] - 2s 30ms/step - loss: 0.0346 - accuracy: 0.9881 - val_loss: 0.0445 - val_accuracy: 0.9753\n",
      "Epoch 27/100\n",
      "69/69 [==============================] - 2s 35ms/step - loss: 0.1069 - accuracy: 0.9674 - val_loss: 0.0926 - val_accuracy: 0.9835\n",
      "Epoch 28/100\n",
      "69/69 [==============================] - 2s 30ms/step - loss: 0.0451 - accuracy: 0.9839 - val_loss: 0.0662 - val_accuracy: 0.9753\n",
      "Epoch 29/100\n",
      "69/69 [==============================] - 2s 31ms/step - loss: 0.0372 - accuracy: 0.9858 - val_loss: 0.0549 - val_accuracy: 0.9753\n",
      "Epoch 30/100\n",
      "69/69 [==============================] - 2s 31ms/step - loss: 0.0465 - accuracy: 0.9867 - val_loss: 0.0511 - val_accuracy: 0.9835\n",
      "Epoch 31/100\n",
      "69/69 [==============================] - 2s 33ms/step - loss: 0.0247 - accuracy: 0.9913 - val_loss: 0.0308 - val_accuracy: 0.9918\n",
      "Epoch 32/100\n",
      "69/69 [==============================] - 2s 36ms/step - loss: 0.0301 - accuracy: 0.9899 - val_loss: 0.0533 - val_accuracy: 0.9877\n",
      "Epoch 33/100\n",
      "69/69 [==============================] - 3s 38ms/step - loss: 0.0488 - accuracy: 0.9853 - val_loss: 0.0527 - val_accuracy: 0.9835\n",
      "Epoch 34/100\n",
      "69/69 [==============================] - 2s 35ms/step - loss: 0.0305 - accuracy: 0.9894 - val_loss: 0.0738 - val_accuracy: 0.9835\n",
      "Epoch 35/100\n",
      "69/69 [==============================] - 2s 31ms/step - loss: 0.0401 - accuracy: 0.9876 - val_loss: 0.0471 - val_accuracy: 0.9835\n",
      "Epoch 36/100\n",
      "69/69 [==============================] - 2s 31ms/step - loss: 0.0213 - accuracy: 0.9922 - val_loss: 0.0728 - val_accuracy: 0.9794\n",
      "Epoch 37/100\n",
      "69/69 [==============================] - 2s 31ms/step - loss: 0.0365 - accuracy: 0.9872 - val_loss: 0.1226 - val_accuracy: 0.9671\n",
      "Epoch 38/100\n",
      "69/69 [==============================] - 2s 33ms/step - loss: 0.0541 - accuracy: 0.9835 - val_loss: 0.0541 - val_accuracy: 0.9835\n",
      "Epoch 39/100\n",
      "69/69 [==============================] - 2s 32ms/step - loss: 0.0174 - accuracy: 0.9936 - val_loss: 0.0403 - val_accuracy: 0.9877\n",
      "Epoch 40/100\n",
      "69/69 [==============================] - 2s 32ms/step - loss: 0.0402 - accuracy: 0.9876 - val_loss: 0.1047 - val_accuracy: 0.9630\n",
      "Epoch 41/100\n",
      "69/69 [==============================] - 2s 31ms/step - loss: 0.0374 - accuracy: 0.9885 - val_loss: 0.0507 - val_accuracy: 0.9753\n",
      "Epoch 42/100\n",
      "69/69 [==============================] - 2s 30ms/step - loss: 0.0521 - accuracy: 0.9803 - val_loss: 0.0767 - val_accuracy: 0.9671\n",
      "Epoch 43/100\n",
      "69/69 [==============================] - 2s 31ms/step - loss: 0.0286 - accuracy: 0.9899 - val_loss: 0.0505 - val_accuracy: 0.9835\n",
      "Epoch 44/100\n",
      "69/69 [==============================] - 2s 31ms/step - loss: 0.0257 - accuracy: 0.9913 - val_loss: 0.0486 - val_accuracy: 0.9794\n",
      "Epoch 45/100\n",
      "69/69 [==============================] - 2s 31ms/step - loss: 0.0273 - accuracy: 0.9917 - val_loss: 0.0487 - val_accuracy: 0.9835\n",
      "Epoch 46/100\n",
      "69/69 [==============================] - 2s 31ms/step - loss: 0.0295 - accuracy: 0.9922 - val_loss: 0.0253 - val_accuracy: 0.9877\n",
      "Epoch 47/100\n",
      "69/69 [==============================] - 2s 32ms/step - loss: 0.0320 - accuracy: 0.9899 - val_loss: 0.0945 - val_accuracy: 0.9671\n",
      "Epoch 48/100\n",
      "69/69 [==============================] - 2s 31ms/step - loss: 0.0265 - accuracy: 0.9913 - val_loss: 0.0759 - val_accuracy: 0.9794\n",
      "Epoch 49/100\n",
      "69/69 [==============================] - 2s 31ms/step - loss: 0.0114 - accuracy: 0.9963 - val_loss: 0.0575 - val_accuracy: 0.9877\n",
      "Epoch 50/100\n",
      "69/69 [==============================] - 2s 31ms/step - loss: 0.0335 - accuracy: 0.9890 - val_loss: 0.0428 - val_accuracy: 0.9835\n",
      "Epoch 51/100\n",
      "69/69 [==============================] - 2s 30ms/step - loss: 0.0433 - accuracy: 0.9876 - val_loss: 0.0246 - val_accuracy: 0.9877\n",
      "Epoch 52/100\n",
      "69/69 [==============================] - 2s 31ms/step - loss: 0.0197 - accuracy: 0.9940 - val_loss: 0.0380 - val_accuracy: 0.9835\n",
      "Epoch 53/100\n",
      "69/69 [==============================] - 2s 31ms/step - loss: 0.0200 - accuracy: 0.9922 - val_loss: 0.0271 - val_accuracy: 0.9835\n",
      "Epoch 54/100\n",
      "69/69 [==============================] - 3s 37ms/step - loss: 0.0455 - accuracy: 0.9872 - val_loss: 0.0360 - val_accuracy: 0.9918\n",
      "Epoch 55/100\n",
      "69/69 [==============================] - 2s 34ms/step - loss: 0.0274 - accuracy: 0.9917 - val_loss: 0.0590 - val_accuracy: 0.9753\n",
      "Epoch 56/100\n",
      "69/69 [==============================] - 2s 31ms/step - loss: 0.0326 - accuracy: 0.9908 - val_loss: 0.0224 - val_accuracy: 0.9918\n",
      "Epoch 57/100\n",
      "69/69 [==============================] - 2s 30ms/step - loss: 0.0162 - accuracy: 0.9940 - val_loss: 0.0360 - val_accuracy: 0.9877\n",
      "Epoch 58/100\n",
      "69/69 [==============================] - 2s 33ms/step - loss: 0.0177 - accuracy: 0.9936 - val_loss: 0.0738 - val_accuracy: 0.9671\n",
      "Epoch 59/100\n",
      "69/69 [==============================] - 2s 31ms/step - loss: 0.0219 - accuracy: 0.9936 - val_loss: 0.0618 - val_accuracy: 0.9794\n",
      "Epoch 60/100\n",
      "69/69 [==============================] - 2s 32ms/step - loss: 0.0353 - accuracy: 0.9876 - val_loss: 0.0492 - val_accuracy: 0.9835\n",
      "Epoch 61/100\n",
      "69/69 [==============================] - 2s 34ms/step - loss: 0.0296 - accuracy: 0.9890 - val_loss: 0.0413 - val_accuracy: 0.9835\n",
      "Epoch 62/100\n",
      "69/69 [==============================] - 2s 32ms/step - loss: 0.0168 - accuracy: 0.9950 - val_loss: 0.0534 - val_accuracy: 0.9835\n",
      "Epoch 63/100\n",
      "69/69 [==============================] - 2s 31ms/step - loss: 0.0247 - accuracy: 0.9927 - val_loss: 0.0606 - val_accuracy: 0.9918\n",
      "Epoch 64/100\n",
      "69/69 [==============================] - 3s 39ms/step - loss: 0.0343 - accuracy: 0.9913 - val_loss: 0.0437 - val_accuracy: 0.9835\n",
      "Epoch 65/100\n",
      "69/69 [==============================] - 2s 34ms/step - loss: 0.0138 - accuracy: 0.9968 - val_loss: 0.0853 - val_accuracy: 0.9753\n",
      "Epoch 66/100\n",
      "69/69 [==============================] - 3s 38ms/step - loss: 0.0240 - accuracy: 0.9913 - val_loss: 0.0759 - val_accuracy: 0.9794\n",
      "Epoch 67/100\n",
      "69/69 [==============================] - 3s 39ms/step - loss: 0.0353 - accuracy: 0.9872 - val_loss: 0.0401 - val_accuracy: 0.9794\n",
      "Epoch 68/100\n",
      "69/69 [==============================] - 2s 33ms/step - loss: 0.0225 - accuracy: 0.9899 - val_loss: 0.0382 - val_accuracy: 0.9877\n",
      "Epoch 69/100\n",
      "69/69 [==============================] - 2s 31ms/step - loss: 0.0387 - accuracy: 0.9885 - val_loss: 0.0837 - val_accuracy: 0.9753\n",
      "Epoch 70/100\n",
      "69/69 [==============================] - 2s 33ms/step - loss: 0.0143 - accuracy: 0.9945 - val_loss: 0.0671 - val_accuracy: 0.9794\n",
      "Epoch 71/100\n",
      "69/69 [==============================] - 2s 30ms/step - loss: 0.0255 - accuracy: 0.9908 - val_loss: 0.0635 - val_accuracy: 0.9835\n",
      "Epoch 72/100\n",
      "69/69 [==============================] - 2s 31ms/step - loss: 0.0170 - accuracy: 0.9950 - val_loss: 0.0492 - val_accuracy: 0.9877\n",
      "Epoch 73/100\n",
      "69/69 [==============================] - 2s 34ms/step - loss: 0.0208 - accuracy: 0.9936 - val_loss: 0.0414 - val_accuracy: 0.9918\n",
      "Epoch 74/100\n",
      "69/69 [==============================] - 2s 31ms/step - loss: 0.0107 - accuracy: 0.9950 - val_loss: 0.1355 - val_accuracy: 0.9835\n",
      "Epoch 75/100\n",
      "69/69 [==============================] - 2s 30ms/step - loss: 0.0181 - accuracy: 0.9931 - val_loss: 0.0577 - val_accuracy: 0.9835\n",
      "Epoch 76/100\n",
      "69/69 [==============================] - 2s 30ms/step - loss: 0.0231 - accuracy: 0.9945 - val_loss: 0.0595 - val_accuracy: 0.9835\n",
      "Epoch 77/100\n",
      "69/69 [==============================] - 2s 33ms/step - loss: 0.0114 - accuracy: 0.9950 - val_loss: 0.0852 - val_accuracy: 0.9794\n",
      "Epoch 78/100\n",
      "69/69 [==============================] - 2s 32ms/step - loss: 0.0242 - accuracy: 0.9917 - val_loss: 0.0899 - val_accuracy: 0.9712\n",
      "Epoch 79/100\n",
      "69/69 [==============================] - 2s 31ms/step - loss: 0.0199 - accuracy: 0.9936 - val_loss: 0.0561 - val_accuracy: 0.9794\n",
      "Epoch 80/100\n",
      "69/69 [==============================] - 2s 31ms/step - loss: 0.0163 - accuracy: 0.9940 - val_loss: 0.1315 - val_accuracy: 0.9630\n",
      "Epoch 81/100\n",
      "69/69 [==============================] - 2s 32ms/step - loss: 0.0133 - accuracy: 0.9954 - val_loss: 0.0410 - val_accuracy: 0.9877\n",
      "Epoch 82/100\n",
      "69/69 [==============================] - 2s 31ms/step - loss: 0.0234 - accuracy: 0.9913 - val_loss: 0.0334 - val_accuracy: 0.9918\n",
      "Epoch 83/100\n",
      "69/69 [==============================] - 2s 31ms/step - loss: 0.0217 - accuracy: 0.9940 - val_loss: 0.0357 - val_accuracy: 0.9835\n",
      "Epoch 84/100\n",
      "69/69 [==============================] - 2s 32ms/step - loss: 0.0286 - accuracy: 0.9922 - val_loss: 0.0892 - val_accuracy: 0.9794\n",
      "Epoch 85/100\n",
      "69/69 [==============================] - 2s 31ms/step - loss: 0.0200 - accuracy: 0.9940 - val_loss: 0.0485 - val_accuracy: 0.9877\n",
      "Epoch 86/100\n",
      "69/69 [==============================] - 2s 32ms/step - loss: 0.0149 - accuracy: 0.9945 - val_loss: 0.0657 - val_accuracy: 0.9794\n",
      "Epoch 87/100\n",
      "69/69 [==============================] - 2s 31ms/step - loss: 0.0222 - accuracy: 0.9936 - val_loss: 0.0941 - val_accuracy: 0.9712\n",
      "Epoch 88/100\n",
      "69/69 [==============================] - 2s 32ms/step - loss: 0.0128 - accuracy: 0.9954 - val_loss: 0.1157 - val_accuracy: 0.9671\n",
      "Epoch 89/100\n",
      "69/69 [==============================] - 2s 30ms/step - loss: 0.0168 - accuracy: 0.9940 - val_loss: 0.0536 - val_accuracy: 0.9794\n",
      "Epoch 90/100\n",
      "69/69 [==============================] - 2s 31ms/step - loss: 0.0305 - accuracy: 0.9904 - val_loss: 0.0657 - val_accuracy: 0.9794\n",
      "Epoch 91/100\n",
      "69/69 [==============================] - 2s 31ms/step - loss: 0.0107 - accuracy: 0.9968 - val_loss: 0.0716 - val_accuracy: 0.9630\n",
      "Epoch 92/100\n",
      "69/69 [==============================] - 2s 32ms/step - loss: 0.0119 - accuracy: 0.9950 - val_loss: 0.0795 - val_accuracy: 0.9753\n",
      "Epoch 93/100\n",
      "69/69 [==============================] - 2s 31ms/step - loss: 0.0346 - accuracy: 0.9894 - val_loss: 0.0653 - val_accuracy: 0.9712\n",
      "Epoch 94/100\n",
      "69/69 [==============================] - 2s 32ms/step - loss: 0.0121 - accuracy: 0.9954 - val_loss: 0.0488 - val_accuracy: 0.9877\n",
      "Epoch 95/100\n",
      "69/69 [==============================] - 2s 31ms/step - loss: 0.0104 - accuracy: 0.9954 - val_loss: 0.0542 - val_accuracy: 0.9835\n",
      "Epoch 96/100\n",
      "69/69 [==============================] - 2s 32ms/step - loss: 0.0203 - accuracy: 0.9945 - val_loss: 0.0944 - val_accuracy: 0.9753\n",
      "Epoch 97/100\n",
      "69/69 [==============================] - 2s 31ms/step - loss: 0.0221 - accuracy: 0.9963 - val_loss: 0.0822 - val_accuracy: 0.9671\n",
      "Epoch 98/100\n",
      "69/69 [==============================] - 2s 33ms/step - loss: 0.0240 - accuracy: 0.9936 - val_loss: 0.0610 - val_accuracy: 0.9835\n",
      "Epoch 99/100\n",
      "69/69 [==============================] - 3s 39ms/step - loss: 0.0416 - accuracy: 0.9876 - val_loss: 0.0913 - val_accuracy: 0.9712\n",
      "Epoch 100/100\n",
      "69/69 [==============================] - 3s 36ms/step - loss: 0.0227 - accuracy: 0.9936 - val_loss: 0.1180 - val_accuracy: 0.9383\n"
     ]
    }
   ],
   "source": [
    "history = model.fit(X, Y, batch_size=32, epochs=100, validation_split=0.1)\n",
    "# model.fit_generator(datagen.flow(X, Y, batch_size=32),\n",
    "#                     epochs=100,\n",
    "#                     verbose=1)\n"
   ]
  },
  {
   "cell_type": "code",
   "execution_count": 122,
   "metadata": {},
   "outputs": [],
   "source": [
    "model.save('../Models/20210701.h5')"
   ]
  },
  {
   "cell_type": "code",
   "execution_count": 121,
   "metadata": {},
   "outputs": [
    {
     "data": {
      "image/png": "[encoded data removed]",
      "text/plain": [
       "<Figure size 432x288 with 1 Axes>"
      ]
     },
     "metadata": {
      "needs_background": "light"
     },
     "output_type": "display_data"
    }
   ],
   "source": [
    "\n",
    "plt.plot(history.history['accuracy'])\n",
    "plt.plot(history.history['val_accuracy'])\n",
    "plt.title('model accuracy')\n",
    "plt.ylabel('accuracy')\n",
    "plt.xlabel('epoch')\n",
    "plt.legend(['train', 'validation'], loc='upper left')\n",
    "plt.show()"
   ]
  },
  {
   "cell_type": "code",
   "execution_count": 123,
   "metadata": {},
   "outputs": [
    {
     "data": {
      "image/png": "[encoded data removed]",
      "text/plain": [
       "<Figure size 432x288 with 1 Axes>"
      ]
     },
     "metadata": {
      "needs_background": "light"
     },
     "output_type": "display_data"
    }
   ],
   "source": [
    "plt.plot(history.history['loss'])\n",
    "plt.plot(history.history['val_loss'])\n",
    "plt.title('model loss')\n",
    "plt.ylabel('loss')\n",
    "plt.xlabel('epoch')\n",
    "plt.legend(['train', 'validation'], loc='upper left')\n",
    "plt.show()"
   ]
  },
  {
   "cell_type": "code",
   "execution_count": 81,
   "metadata": {},
   "outputs": [],
   "source": [
    "# 单个测试样本数据\n",
    "test_path = \"../Images/test.jpg\"\n",
    "image = cv2.imread(test_path)\n",
    "image = cv2.resize(image, (64, 64))\n",
    "image = cv2.cvtColor(image, cv2.COLOR_BGR2RGB)\n",
    "image_bn = image.astype(\"float32\") / 255.0\n",
    "image = np.expand_dims(image, axis=0)\n",
    "image_bn = np.expand_dims(image_bn, axis=0)"
   ]
  },
  {
   "cell_type": "code",
   "execution_count": 85,
   "metadata": {
    "scrolled": true
   },
   "outputs": [
    {
     "name": "stdout",
     "output_type": "stream",
     "text": [
      "WARNING:tensorflow:11 out of the last 11 calls to <function Model.make_predict_function.<locals>.predict_function at 0x7f46a4426d90> triggered tf.function retracing. Tracing is expensive and the excessive number of tracings could be due to (1) creating @tf.function repeatedly in a loop, (2) passing tensors with different shapes, (3) passing Python objects instead of tensors. For (1), please define your @tf.function outside of the loop. For (2), @tf.function has experimental_relax_shapes=True option that relaxes argument shapes that can avoid unnecessary retracing. For (3), please refer to https://www.tensorflow.org/guide/function#controlling_retracing and https://www.tensorflow.org/api_docs/python/tf/function for  more details.\n"
     ]
    },
    {
     "name": "stderr",
     "output_type": "stream",
     "text": [
      "WARNING:tensorflow:11 out of the last 11 calls to <function Model.make_predict_function.<locals>.predict_function at 0x7f46a4426d90> triggered tf.function retracing. Tracing is expensive and the excessive number of tracings could be due to (1) creating @tf.function repeatedly in a loop, (2) passing tensors with different shapes, (3) passing Python objects instead of tensors. For (1), please define your @tf.function outside of the loop. For (2), @tf.function has experimental_relax_shapes=True option that relaxes argument shapes that can avoid unnecessary retracing. For (3), please refer to https://www.tensorflow.org/guide/function#controlling_retracing and https://www.tensorflow.org/api_docs/python/tf/function for  more details.\n"
     ]
    },
    {
     "name": "stdout",
     "output_type": "stream",
     "text": [
      "prediction: [[0.9730365  0.02696355]]\n",
      "time: 60.343ms\n",
      "model size: 7.46 MB\n"
     ]
    }
   ],
   "source": [
    "# 恢复 keras 模型，并预测\n",
    "keras_file = '../Models/20210701.h5'\n",
    "model = tf.keras.models.load_model(keras_file)\n",
    "# model.summary()\n",
    "# tf.autograph.set_verbosity(0)\n",
    "\n",
    "start_time = time.time()\n",
    "pred = model.predict(image_bn)\n",
    "stop_time = time.time()\n",
    "\n",
    "print(f\"prediction: {pred}\")\n",
    "print('time: {:.3f}ms'.format((stop_time - start_time) * 1000))\n",
    "print(\"model size: {:.2f} MB\".format(os.path.getsize(keras_file)/1024/1024))"
   ]
  },
  {
   "cell_type": "code",
   "execution_count": 69,
   "metadata": {
    "scrolled": true
   },
   "outputs": [],
   "source": [
    "# plot_model(model, to_file='model_small.png', show_layer_names=False, show_shapes=True)"
   ]
  },
  {
   "cell_type": "code",
   "execution_count": null,
   "metadata": {},
   "outputs": [],
   "source": []
  },
  {
   "cell_type": "code",
   "execution_count": 137,
   "metadata": {},
   "outputs": [
    {
     "name": "stdout",
     "output_type": "stream",
     "text": [
      "input:  <class 'numpy.float32'>\n",
      "output:  <class 'numpy.float32'>\n"
     ]
    }
   ],
   "source": [
    "interpreter = tf.lite.Interpreter(model_content=tflite_model)\n",
    "input_type = interpreter.get_input_details()[0]['dtype']\n",
    "print('input: ', input_type)\n",
    "output_type = interpreter.get_output_details()[0]['dtype']\n",
    "print('output: ', output_type)"
   ]
  },
  {
   "cell_type": "code",
   "execution_count": 180,
   "metadata": {},
   "outputs": [
    {
     "name": "stdout",
     "output_type": "stream",
     "text": [
      "INFO:tensorflow:Assets written to: /tmp/tmpqu_lzsto/assets\n"
     ]
    },
    {
     "name": "stderr",
     "output_type": "stream",
     "text": [
      "INFO:tensorflow:Assets written to: /tmp/tmpqu_lzsto/assets\n"
     ]
    },
    {
     "data": {
      "text/plain": [
       "657728"
      ]
     },
     "execution_count": 180,
     "metadata": {},
     "output_type": "execute_result"
    }
   ],
   "source": [
    "# quantize int\n",
    "\n",
    "def representative_data_gen():\n",
    "  for input_value in X[:100]:\n",
    "    input_value = np.expand_dims(input_value, axis=0)\n",
    "    input_value = input_value.astype(np.float32)\n",
    "    yield [input_value]\n",
    "\n",
    "converter = tf.lite.TFLiteConverter.from_keras_model(model)\n",
    "converter.optimizations = [tf.lite.Optimize.DEFAULT]\n",
    "converter.representative_dataset = representative_data_gen\n",
    "# Ensure that if any ops can't be quantized, the converter throws an error\n",
    "\n",
    "tflite_model = converter.convert()\n",
    "\n",
    "tflite_file = Path(\"../Models/Tflites/fire_int_half.tflite\")\n",
    "tflite_file.write_bytes(tflite_model)"
   ]
  },
  {
   "cell_type": "code",
   "execution_count": 206,
   "metadata": {},
   "outputs": [
    {
     "name": "stdout",
     "output_type": "stream",
     "text": [
      "prediction: [[0.97265625 0.02734375]]\n",
      "time: 3.416ms\n",
      "model size: 0.63 MB\n"
     ]
    }
   ],
   "source": [
    "# tflite 模型推理\n",
    "\n",
    "interpreter = tf.lite.Interpreter(model_path=str(tflite_file))\n",
    "interpreter.allocate_tensors()\n",
    "\n",
    "# Get input and output tensors.\n",
    "input_details = interpreter.get_input_details()[0]\n",
    "output_details = interpreter.get_output_details()[0]\n",
    "\n",
    "interpreter.set_tensor(input_details['index'], image_bn)\n",
    "\n",
    "start_time = time.time()\n",
    "interpreter.invoke()\n",
    "stop_time = time.time()\n",
    "\n",
    "output_data = interpreter.get_tensor(output_details['index'])\n",
    "print(f\"prediction: {output_data}\")\n",
    "print('time: {:.3f}ms'.format((stop_time - start_time) * 1000))\n",
    "print(\"model size: {:.2f} MB\".format(os.path.getsize(tflite_file)/1024/1024))"
   ]
  },
  {
   "cell_type": "code",
   "execution_count": 167,
   "metadata": {},
   "outputs": [
    {
     "name": "stdout",
     "output_type": "stream",
     "text": [
      "(100, 64, 64, 3)\n"
     ]
    }
   ],
   "source": [
    "print(X[:100].shape)"
   ]
  },
  {
   "cell_type": "code",
   "execution_count": 208,
   "metadata": {},
   "outputs": [
    {
     "name": "stdout",
     "output_type": "stream",
     "text": [
      "INFO:tensorflow:Assets written to: /tmp/tmpf4gm2z3m/assets\n"
     ]
    },
    {
     "name": "stderr",
     "output_type": "stream",
     "text": [
      "INFO:tensorflow:Assets written to: /tmp/tmpf4gm2z3m/assets\n"
     ]
    },
    {
     "data": {
      "text/plain": [
       "657576"
      ]
     },
     "execution_count": 208,
     "metadata": {},
     "output_type": "execute_result"
    }
   ],
   "source": [
    "# quantize int\n",
    "\n",
    "def representative_data_gen():\n",
    "  for input_value in X[:100]:\n",
    "    input_value = np.expand_dims(input_value, axis=0)\n",
    "    input_value = input_value.astype(np.float32)\n",
    "    yield [input_value]\n",
    "\n",
    "converter = tf.lite.TFLiteConverter.from_keras_model(model)\n",
    "converter.optimizations = [tf.lite.Optimize.DEFAULT]\n",
    "converter.representative_dataset = representative_data_gen\n",
    "# Ensure that if any ops can't be quantized, the converter throws an error\n",
    "converter.target_spec.supported_ops = [tf.lite.OpsSet.TFLITE_BUILTINS_INT8]\n",
    "# Set the input and output tensors to uint8 (APIs added in r2.3)\n",
    "converter.inference_input_type = tf.uint8\n",
    "converter.inference_output_type = tf.uint8\n",
    "\n",
    "tflite_model = converter.convert()\n",
    "\n",
    "tflite_file = Path(\"../Models/Tflites/fire_int.tflite\")\n",
    "tflite_file.write_bytes(tflite_model)"
   ]
  },
  {
   "cell_type": "code",
   "execution_count": 32,
   "metadata": {},
   "outputs": [
    {
     "name": "stdout",
     "output_type": "stream",
     "text": [
      "input:  <class 'numpy.uint8'>\n",
      "output:  <class 'numpy.uint8'>\n"
     ]
    }
   ],
   "source": [
    "interpreter = tf.lite.Interpreter(model_content=tflite_model)\n",
    "input_type = interpreter.get_input_details()[0]['dtype']\n",
    "print('input: ', input_type)\n",
    "output_type = interpreter.get_output_details()[0]['dtype']\n",
    "print('output: ', output_type)"
   ]
  },
  {
   "cell_type": "code",
   "execution_count": 219,
   "metadata": {},
   "outputs": [
    {
     "name": "stdout",
     "output_type": "stream",
     "text": [
      "prediction: [[249   7]]\n",
      "time: 1.226ms\n",
      "model size: 0.63 MB\n"
     ]
    }
   ],
   "source": [
    "# tflite 模型推理\n",
    "tflite_file = Path(\"../Models/Tflites/fire_int.tflite\")\n",
    "interpreter = tf.lite.Interpreter(model_path=str(tflite_file))\n",
    "interpreter.allocate_tensors()\n",
    "\n",
    "# Get input and output tensors.\n",
    "input_details = interpreter.get_input_details()[0]\n",
    "output_details = interpreter.get_output_details()[0]\n",
    "\n",
    "interpreter.set_tensor(input_details['index'], image)\n",
    "\n",
    "start_time = time.time()\n",
    "interpreter.invoke()\n",
    "stop_time = time.time()\n",
    "\n",
    "output_data = interpreter.get_tensor(output_details['index'])\n",
    "print(f\"prediction: {output_data}\")\n",
    "print('time: {:.3f}ms'.format((stop_time - start_time) * 1000))\n",
    "print(\"model size: {:.2f} MB\".format(os.path.getsize(tflite_file)/1024/1024))"
   ]
  }
 ],
 "metadata": {
  "kernelspec": {
   "display_name": "tf2",
   "language": "python",
   "name": "tf2"
  },
  "language_info": {
   "codemirror_mode": {
    "name": "ipython",
    "version": 3
   },
   "file_extension": ".py",
   "mimetype": "text/x-python",
   "name": "python",
   "nbconvert_exporter": "python",
   "pygments_lexer": "ipython3",
   "version": "3.6.10"
  }
 },
 "nbformat": 4,
 "nbformat_minor": 2
}
